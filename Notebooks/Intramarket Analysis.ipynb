{
 "cells": [
  {
   "cell_type": "markdown",
   "metadata": {},
   "source": [
    "### **`Data Preparation`**"
   ]
  },
  {
   "cell_type": "markdown",
   "metadata": {},
   "source": [
    "##### **Importation of Packages and  Reading CSV**"
   ]
  },
  {
   "cell_type": "code",
   "execution_count": 1,
   "metadata": {},
   "outputs": [],
   "source": [
    "import pandas as pd"
   ]
  },
  {
   "cell_type": "code",
   "execution_count": 14,
   "metadata": {},
   "outputs": [],
   "source": [
    "df_oil = pd.read_csv('/Users/h.h/Downloads/BAnDS/Fall 2024/5193 -  Programming I DS/Project/Cleaned Unjoined/cleaned_btc.csv')\n",
    "df_gold = pd.read_csv('/Users/h.h/Downloads/BAnDS/Fall 2024/5193 -  Programming I DS/Project/Cleaned Unjoined/cleaned_gold.csv')\n",
    "# df_dxy = pd.read_csv('/Users/h.h/Downloads/BAnDS/Fall 2024/5193 -  Programming I DS/Project/Cleaned Unjoined/cleaned_dxy.csv')\n",
    "df_btc = pd.read_csv('/Users/h.h/Downloads/BAnDS/Fall 2024/5193 -  Programming I DS/Project/Cleaned Unjoined/cleaned_btc.csv')\n",
    "df_date = pd.read_csv('/Users/h.h/Downloads/BAnDS/Fall 2024/5193 -  Programming I DS/Project/Cleaned Unjoined/date.csv')\n",
    "# df_holiday = pd.read_csv('/Users/h.h/Downloads/BAnDS/Fall 2024/5193 -  Programming I DS/Project/Cleaned Unjoined/holiday.csv')\n",
    "# df_weekday = pd.read_csv('/Users/h.h/Downloads/BAnDS/Fall 2024/5193 -  Programming I DS/Project/Cleaned Unjoined/weekday.csv')\n"
   ]
  },
  {
   "cell_type": "markdown",
   "metadata": {},
   "source": [
    "#### **Separate Dataset Preprocessing**\n",
    "- At the End of this stage we will have different cleaned DataFrames, ready for a left join By date.\n",
    "    - Standardize column names\n",
    "    - Proper Dtypes\n",
    "    - Date properties (holiday, weekday) changed to binary\n",
    "    - Ensured about date Integrity for all DFs\n",
    "    "
   ]
  },
  {
   "cell_type": "markdown",
   "metadata": {},
   "source": [
    "##### **Oil DataFrame Preprocessing**"
   ]
  },
  {
   "cell_type": "code",
   "execution_count": 5,
   "metadata": {},
   "outputs": [
    {
     "data": {
      "text/html": [
       "<div>\n",
       "<style scoped>\n",
       "    .dataframe tbody tr th:only-of-type {\n",
       "        vertical-align: middle;\n",
       "    }\n",
       "\n",
       "    .dataframe tbody tr th {\n",
       "        vertical-align: top;\n",
       "    }\n",
       "\n",
       "    .dataframe thead th {\n",
       "        text-align: right;\n",
       "    }\n",
       "</style>\n",
       "<table border=\"1\" class=\"dataframe\">\n",
       "  <thead>\n",
       "    <tr style=\"text-align: right;\">\n",
       "      <th></th>\n",
       "      <th>Date</th>\n",
       "      <th>btc_open</th>\n",
       "      <th>btc_high</th>\n",
       "      <th>btc_low</th>\n",
       "      <th>btc_close</th>\n",
       "    </tr>\n",
       "  </thead>\n",
       "  <tbody>\n",
       "    <tr>\n",
       "      <th>0</th>\n",
       "      <td>2024-10-21</td>\n",
       "      <td>69009.37</td>\n",
       "      <td>69408.10</td>\n",
       "      <td>66873.84</td>\n",
       "      <td>67525.97</td>\n",
       "    </tr>\n",
       "    <tr>\n",
       "      <th>1</th>\n",
       "      <td>2024-10-20</td>\n",
       "      <td>68364.18</td>\n",
       "      <td>69359.01</td>\n",
       "      <td>68105.72</td>\n",
       "      <td>69001.70</td>\n",
       "    </tr>\n",
       "    <tr>\n",
       "      <th>2</th>\n",
       "      <td>2024-10-19</td>\n",
       "      <td>68418.98</td>\n",
       "      <td>68668.01</td>\n",
       "      <td>68024.64</td>\n",
       "      <td>68362.73</td>\n",
       "    </tr>\n",
       "    <tr>\n",
       "      <th>3</th>\n",
       "      <td>2024-10-18</td>\n",
       "      <td>67419.11</td>\n",
       "      <td>68969.75</td>\n",
       "      <td>67177.82</td>\n",
       "      <td>68418.79</td>\n",
       "    </tr>\n",
       "    <tr>\n",
       "      <th>4</th>\n",
       "      <td>2024-10-17</td>\n",
       "      <td>67617.08</td>\n",
       "      <td>67912.21</td>\n",
       "      <td>66647.39</td>\n",
       "      <td>67399.84</td>\n",
       "    </tr>\n",
       "  </tbody>\n",
       "</table>\n",
       "</div>"
      ],
      "text/plain": [
       "         Date  btc_open  btc_high   btc_low  btc_close\n",
       "0  2024-10-21  69009.37  69408.10  66873.84   67525.97\n",
       "1  2024-10-20  68364.18  69359.01  68105.72   69001.70\n",
       "2  2024-10-19  68418.98  68668.01  68024.64   68362.73\n",
       "3  2024-10-18  67419.11  68969.75  67177.82   68418.79\n",
       "4  2024-10-17  67617.08  67912.21  66647.39   67399.84"
      ]
     },
     "execution_count": 5,
     "metadata": {},
     "output_type": "execute_result"
    }
   ],
   "source": [
    "df_oil.head()"
   ]
  },
  {
   "cell_type": "code",
   "execution_count": 6,
   "metadata": {},
   "outputs": [
    {
     "data": {
      "text/plain": [
       "Date          object\n",
       "btc_open     float64\n",
       "btc_high     float64\n",
       "btc_low      float64\n",
       "btc_close    float64\n",
       "dtype: object"
      ]
     },
     "execution_count": 6,
     "metadata": {},
     "output_type": "execute_result"
    }
   ],
   "source": [
    "df_oil.dtypes"
   ]
  },
  {
   "cell_type": "code",
   "execution_count": 7,
   "metadata": {},
   "outputs": [],
   "source": [
    "# Convert Date to datetime\n",
    "df_oil['Date'] = pd.to_datetime(df_oil['Date'])"
   ]
  },
  {
   "cell_type": "code",
   "execution_count": 8,
   "metadata": {},
   "outputs": [
    {
     "data": {
      "text/plain": [
       "(3643, 5)"
      ]
     },
     "execution_count": 8,
     "metadata": {},
     "output_type": "execute_result"
    }
   ],
   "source": [
    "df_oil.shape"
   ]
  },
  {
   "cell_type": "code",
   "execution_count": 24,
   "metadata": {},
   "outputs": [
    {
     "data": {
      "text/plain": [
       "(Timestamp('2014-11-01 00:00:00'), Timestamp('2024-10-21 00:00:00'))"
      ]
     },
     "execution_count": 24,
     "metadata": {},
     "output_type": "execute_result"
    }
   ],
   "source": [
    "# Check for start and end date\n",
    "df_oil['Date'].min(), df_oil['Date'].max()"
   ]
  },
  {
   "cell_type": "markdown",
   "metadata": {},
   "source": [
    "##### **Gold DataFrame Preprocessing**"
   ]
  },
  {
   "cell_type": "code",
   "execution_count": 27,
   "metadata": {},
   "outputs": [
    {
     "data": {
      "text/html": [
       "<div>\n",
       "<style scoped>\n",
       "    .dataframe tbody tr th:only-of-type {\n",
       "        vertical-align: middle;\n",
       "    }\n",
       "\n",
       "    .dataframe tbody tr th {\n",
       "        vertical-align: top;\n",
       "    }\n",
       "\n",
       "    .dataframe thead th {\n",
       "        text-align: right;\n",
       "    }\n",
       "</style>\n",
       "<table border=\"1\" class=\"dataframe\">\n",
       "  <thead>\n",
       "    <tr style=\"text-align: right;\">\n",
       "      <th></th>\n",
       "      <th>Date</th>\n",
       "      <th>gold_close</th>\n",
       "      <th>gold_open</th>\n",
       "      <th>gold_high</th>\n",
       "      <th>gold_low</th>\n",
       "    </tr>\n",
       "  </thead>\n",
       "  <tbody>\n",
       "    <tr>\n",
       "      <th>0</th>\n",
       "      <td>2024-11-06</td>\n",
       "      <td>2668.0</td>\n",
       "      <td>2754.4</td>\n",
       "      <td>2758.7</td>\n",
       "      <td>2660.75</td>\n",
       "    </tr>\n",
       "    <tr>\n",
       "      <th>1</th>\n",
       "      <td>2024-11-05</td>\n",
       "      <td>2749.7</td>\n",
       "      <td>2746.0</td>\n",
       "      <td>2759.5</td>\n",
       "      <td>2733.40</td>\n",
       "    </tr>\n",
       "    <tr>\n",
       "      <th>2</th>\n",
       "      <td>2024-11-04</td>\n",
       "      <td>2746.2</td>\n",
       "      <td>2743.5</td>\n",
       "      <td>2757.5</td>\n",
       "      <td>2739.40</td>\n",
       "    </tr>\n",
       "    <tr>\n",
       "      <th>3</th>\n",
       "      <td>2024-11-01</td>\n",
       "      <td>2749.2</td>\n",
       "      <td>2754.0</td>\n",
       "      <td>2772.4</td>\n",
       "      <td>2742.60</td>\n",
       "    </tr>\n",
       "    <tr>\n",
       "      <th>4</th>\n",
       "      <td>2024-10-31</td>\n",
       "      <td>2749.3</td>\n",
       "      <td>2799.1</td>\n",
       "      <td>2801.2</td>\n",
       "      <td>2741.80</td>\n",
       "    </tr>\n",
       "  </tbody>\n",
       "</table>\n",
       "</div>"
      ],
      "text/plain": [
       "        Date  gold_close  gold_open  gold_high  gold_low\n",
       "0 2024-11-06      2668.0     2754.4     2758.7   2660.75\n",
       "1 2024-11-05      2749.7     2746.0     2759.5   2733.40\n",
       "2 2024-11-04      2746.2     2743.5     2757.5   2739.40\n",
       "3 2024-11-01      2749.2     2754.0     2772.4   2742.60\n",
       "4 2024-10-31      2749.3     2799.1     2801.2   2741.80"
      ]
     },
     "execution_count": 27,
     "metadata": {},
     "output_type": "execute_result"
    }
   ],
   "source": [
    "df_gold.head()"
   ]
  },
  {
   "cell_type": "code",
   "execution_count": null,
   "metadata": {},
   "outputs": [
    {
     "data": {
      "text/plain": [
       "Date          object\n",
       "gold_close    object\n",
       "gold_open     object\n",
       "gold_high     object\n",
       "gold_low      object\n",
       "dtype: object"
      ]
     },
     "metadata": {},
     "output_type": "display_data"
    }
   ],
   "source": [
    "df_gold.dtypes"
   ]
  },
  {
   "cell_type": "code",
   "execution_count": null,
   "metadata": {},
   "outputs": [],
   "source": [
    "# Convert Date to datetime\n",
    "df_gold['Date'] = pd.to_datetime(df_gold['Date'])"
   ]
  },
  {
   "cell_type": "code",
   "execution_count": null,
   "metadata": {},
   "outputs": [],
   "source": [
    "# Covert Object to Float\n",
    "for col in [\"gold_close\", \"gold_open\", \"gold_high\", \"gold_low\"]:\n",
    "    df_gold[col] = df_gold[col].str.replace(',', '').astype(float)"
   ]
  },
  {
   "cell_type": "code",
   "execution_count": 35,
   "metadata": {},
   "outputs": [
    {
     "data": {
      "text/plain": [
       "(2568, 5)"
      ]
     },
     "execution_count": 35,
     "metadata": {},
     "output_type": "execute_result"
    }
   ],
   "source": [
    "df_gold.shape"
   ]
  },
  {
   "cell_type": "code",
   "execution_count": null,
   "metadata": {},
   "outputs": [
    {
     "data": {
      "text/plain": [
       "(Timestamp('2014-11-03 00:00:00'), Timestamp('2024-11-06 00:00:00'))"
      ]
     },
     "metadata": {},
     "output_type": "display_data"
    }
   ],
   "source": [
    "# Check for start and end date\n",
    "df_gold['Date'].min(), df_gold['Date'].max()"
   ]
  },
  {
   "cell_type": "markdown",
   "metadata": {},
   "source": [
    "##### **BTC DataFrame Preprocessing**"
   ]
  },
  {
   "cell_type": "code",
   "execution_count": 30,
   "metadata": {},
   "outputs": [
    {
     "data": {
      "text/html": [
       "<div>\n",
       "<style scoped>\n",
       "    .dataframe tbody tr th:only-of-type {\n",
       "        vertical-align: middle;\n",
       "    }\n",
       "\n",
       "    .dataframe tbody tr th {\n",
       "        vertical-align: top;\n",
       "    }\n",
       "\n",
       "    .dataframe thead th {\n",
       "        text-align: right;\n",
       "    }\n",
       "</style>\n",
       "<table border=\"1\" class=\"dataframe\">\n",
       "  <thead>\n",
       "    <tr style=\"text-align: right;\">\n",
       "      <th></th>\n",
       "      <th>Date</th>\n",
       "      <th>btc_open</th>\n",
       "      <th>btc_high</th>\n",
       "      <th>btc_low</th>\n",
       "      <th>btc_close</th>\n",
       "    </tr>\n",
       "  </thead>\n",
       "  <tbody>\n",
       "    <tr>\n",
       "      <th>0</th>\n",
       "      <td>2024-10-21</td>\n",
       "      <td>69009.37</td>\n",
       "      <td>69408.10</td>\n",
       "      <td>66873.84</td>\n",
       "      <td>67525.97</td>\n",
       "    </tr>\n",
       "    <tr>\n",
       "      <th>1</th>\n",
       "      <td>2024-10-20</td>\n",
       "      <td>68364.18</td>\n",
       "      <td>69359.01</td>\n",
       "      <td>68105.72</td>\n",
       "      <td>69001.70</td>\n",
       "    </tr>\n",
       "    <tr>\n",
       "      <th>2</th>\n",
       "      <td>2024-10-19</td>\n",
       "      <td>68418.98</td>\n",
       "      <td>68668.01</td>\n",
       "      <td>68024.64</td>\n",
       "      <td>68362.73</td>\n",
       "    </tr>\n",
       "    <tr>\n",
       "      <th>3</th>\n",
       "      <td>2024-10-18</td>\n",
       "      <td>67419.11</td>\n",
       "      <td>68969.75</td>\n",
       "      <td>67177.82</td>\n",
       "      <td>68418.79</td>\n",
       "    </tr>\n",
       "    <tr>\n",
       "      <th>4</th>\n",
       "      <td>2024-10-17</td>\n",
       "      <td>67617.08</td>\n",
       "      <td>67912.21</td>\n",
       "      <td>66647.39</td>\n",
       "      <td>67399.84</td>\n",
       "    </tr>\n",
       "  </tbody>\n",
       "</table>\n",
       "</div>"
      ],
      "text/plain": [
       "         Date  btc_open  btc_high   btc_low  btc_close\n",
       "0  2024-10-21  69009.37  69408.10  66873.84   67525.97\n",
       "1  2024-10-20  68364.18  69359.01  68105.72   69001.70\n",
       "2  2024-10-19  68418.98  68668.01  68024.64   68362.73\n",
       "3  2024-10-18  67419.11  68969.75  67177.82   68418.79\n",
       "4  2024-10-17  67617.08  67912.21  66647.39   67399.84"
      ]
     },
     "execution_count": 30,
     "metadata": {},
     "output_type": "execute_result"
    }
   ],
   "source": [
    "df_btc.head()"
   ]
  },
  {
   "cell_type": "code",
   "execution_count": 31,
   "metadata": {},
   "outputs": [
    {
     "data": {
      "text/plain": [
       "Date          object\n",
       "btc_open     float64\n",
       "btc_high     float64\n",
       "btc_low      float64\n",
       "btc_close    float64\n",
       "dtype: object"
      ]
     },
     "execution_count": 31,
     "metadata": {},
     "output_type": "execute_result"
    }
   ],
   "source": [
    "df_btc.dtypes"
   ]
  },
  {
   "cell_type": "code",
   "execution_count": 34,
   "metadata": {},
   "outputs": [
    {
     "data": {
      "text/plain": [
       "(3643, 5)"
      ]
     },
     "execution_count": 34,
     "metadata": {},
     "output_type": "execute_result"
    }
   ],
   "source": [
    "df_btc.shape"
   ]
  },
  {
   "cell_type": "code",
   "execution_count": 32,
   "metadata": {},
   "outputs": [],
   "source": [
    "# Convert Date to datetime\n",
    "df_btc['Date'] = pd.to_datetime(df_btc['Date'])"
   ]
  },
  {
   "cell_type": "code",
   "execution_count": 33,
   "metadata": {},
   "outputs": [
    {
     "data": {
      "text/plain": [
       "(Timestamp('2014-11-03 00:00:00'), Timestamp('2024-11-06 00:00:00'))"
      ]
     },
     "execution_count": 33,
     "metadata": {},
     "output_type": "execute_result"
    }
   ],
   "source": [
    "# Check for start and end date\n",
    "df_gold['Date'].min(), df_gold['Date'].max()"
   ]
  },
  {
   "cell_type": "markdown",
   "metadata": {},
   "source": [
    "##### **DXY DataFrame Preprocessing**"
   ]
  },
  {
   "cell_type": "code",
   "execution_count": null,
   "metadata": {},
   "outputs": [
    {
     "data": {
      "text/html": [
       "<div>\n",
       "<style scoped>\n",
       "    .dataframe tbody tr th:only-of-type {\n",
       "        vertical-align: middle;\n",
       "    }\n",
       "\n",
       "    .dataframe tbody tr th {\n",
       "        vertical-align: top;\n",
       "    }\n",
       "\n",
       "    .dataframe thead th {\n",
       "        text-align: right;\n",
       "    }\n",
       "</style>\n",
       "<table border=\"1\" class=\"dataframe\">\n",
       "  <thead>\n",
       "    <tr style=\"text-align: right;\">\n",
       "      <th></th>\n",
       "      <th>Date</th>\n",
       "      <th>gold_close</th>\n",
       "      <th>gold_open</th>\n",
       "      <th>gold_high</th>\n",
       "      <th>gold_low</th>\n",
       "    </tr>\n",
       "  </thead>\n",
       "  <tbody>\n",
       "    <tr>\n",
       "      <th>0</th>\n",
       "      <td>2024-11-06</td>\n",
       "      <td>2,668.00</td>\n",
       "      <td>2,754.40</td>\n",
       "      <td>2,758.70</td>\n",
       "      <td>2,660.75</td>\n",
       "    </tr>\n",
       "    <tr>\n",
       "      <th>1</th>\n",
       "      <td>2024-11-05</td>\n",
       "      <td>2,749.70</td>\n",
       "      <td>2,746.00</td>\n",
       "      <td>2,759.50</td>\n",
       "      <td>2,733.40</td>\n",
       "    </tr>\n",
       "    <tr>\n",
       "      <th>2</th>\n",
       "      <td>2024-11-04</td>\n",
       "      <td>2,746.20</td>\n",
       "      <td>2,743.50</td>\n",
       "      <td>2,757.50</td>\n",
       "      <td>2,739.40</td>\n",
       "    </tr>\n",
       "    <tr>\n",
       "      <th>3</th>\n",
       "      <td>2024-11-01</td>\n",
       "      <td>2,749.20</td>\n",
       "      <td>2,754.00</td>\n",
       "      <td>2,772.40</td>\n",
       "      <td>2,742.60</td>\n",
       "    </tr>\n",
       "    <tr>\n",
       "      <th>4</th>\n",
       "      <td>2024-10-31</td>\n",
       "      <td>2,749.30</td>\n",
       "      <td>2,799.10</td>\n",
       "      <td>2,801.20</td>\n",
       "      <td>2,741.80</td>\n",
       "    </tr>\n",
       "  </tbody>\n",
       "</table>\n",
       "</div>"
      ],
      "text/plain": [
       "         Date gold_close gold_open gold_high  gold_low\n",
       "0  2024-11-06   2,668.00  2,754.40  2,758.70  2,660.75\n",
       "1  2024-11-05   2,749.70  2,746.00  2,759.50  2,733.40\n",
       "2  2024-11-04   2,746.20  2,743.50  2,757.50  2,739.40\n",
       "3  2024-11-01   2,749.20  2,754.00  2,772.40  2,742.60\n",
       "4  2024-10-31   2,749.30  2,799.10  2,801.20  2,741.80"
      ]
     },
     "metadata": {},
     "output_type": "display_data"
    }
   ],
   "source": [
    "# df_dxy.head()"
   ]
  },
  {
   "cell_type": "code",
   "execution_count": null,
   "metadata": {},
   "outputs": [],
   "source": [
    "## drop  vol, change columns\n",
    "# df_dxy = df_dxy.drop(columns=['Vol.', 'Change %'])"
   ]
  },
  {
   "cell_type": "code",
   "execution_count": null,
   "metadata": {},
   "outputs": [
    {
     "data": {
      "text/plain": [
       "Date          object\n",
       "gold_close    object\n",
       "gold_open     object\n",
       "gold_high     object\n",
       "gold_low      object\n",
       "dtype: object"
      ]
     },
     "metadata": {},
     "output_type": "display_data"
    }
   ],
   "source": [
    "# df_dxy.dtypes"
   ]
  },
  {
   "cell_type": "code",
   "execution_count": null,
   "metadata": {},
   "outputs": [],
   "source": [
    "# # Convert Date to datetime\n",
    "# df_dxy['Date'] = pd.to_datetime(df_dxy['Date'])"
   ]
  },
  {
   "cell_type": "code",
   "execution_count": null,
   "metadata": {},
   "outputs": [],
   "source": [
    "# df_dxy.shape"
   ]
  },
  {
   "cell_type": "code",
   "execution_count": null,
   "metadata": {},
   "outputs": [
    {
     "data": {
      "text/plain": [
       "(Timestamp('2014-11-03 00:00:00'), Timestamp('2024-11-06 00:00:00'))"
      ]
     },
     "metadata": {},
     "output_type": "display_data"
    }
   ],
   "source": [
    "# # Check for start and end date\n",
    "# df_dxy['Date'].min(), df_dxy['Date'].max()"
   ]
  },
  {
   "cell_type": "markdown",
   "metadata": {},
   "source": [
    "##### **Date DataFrame Preprocessing**"
   ]
  },
  {
   "cell_type": "code",
   "execution_count": 36,
   "metadata": {},
   "outputs": [
    {
     "data": {
      "text/html": [
       "<div>\n",
       "<style scoped>\n",
       "    .dataframe tbody tr th:only-of-type {\n",
       "        vertical-align: middle;\n",
       "    }\n",
       "\n",
       "    .dataframe tbody tr th {\n",
       "        vertical-align: top;\n",
       "    }\n",
       "\n",
       "    .dataframe thead th {\n",
       "        text-align: right;\n",
       "    }\n",
       "</style>\n",
       "<table border=\"1\" class=\"dataframe\">\n",
       "  <thead>\n",
       "    <tr style=\"text-align: right;\">\n",
       "      <th></th>\n",
       "      <th>Unnamed: 0</th>\n",
       "      <th>Date</th>\n",
       "      <th>DoW</th>\n",
       "      <th>Month</th>\n",
       "      <th>Year</th>\n",
       "    </tr>\n",
       "  </thead>\n",
       "  <tbody>\n",
       "    <tr>\n",
       "      <th>0</th>\n",
       "      <td>0</td>\n",
       "      <td>2014-11-01</td>\n",
       "      <td>Saturday</td>\n",
       "      <td>11</td>\n",
       "      <td>2014</td>\n",
       "    </tr>\n",
       "    <tr>\n",
       "      <th>1</th>\n",
       "      <td>1</td>\n",
       "      <td>2014-11-02</td>\n",
       "      <td>Sunday</td>\n",
       "      <td>11</td>\n",
       "      <td>2014</td>\n",
       "    </tr>\n",
       "    <tr>\n",
       "      <th>2</th>\n",
       "      <td>2</td>\n",
       "      <td>2014-11-03</td>\n",
       "      <td>Monday</td>\n",
       "      <td>11</td>\n",
       "      <td>2014</td>\n",
       "    </tr>\n",
       "    <tr>\n",
       "      <th>3</th>\n",
       "      <td>3</td>\n",
       "      <td>2014-11-04</td>\n",
       "      <td>Tuesday</td>\n",
       "      <td>11</td>\n",
       "      <td>2014</td>\n",
       "    </tr>\n",
       "    <tr>\n",
       "      <th>4</th>\n",
       "      <td>4</td>\n",
       "      <td>2014-11-05</td>\n",
       "      <td>Wednesday</td>\n",
       "      <td>11</td>\n",
       "      <td>2014</td>\n",
       "    </tr>\n",
       "  </tbody>\n",
       "</table>\n",
       "</div>"
      ],
      "text/plain": [
       "   Unnamed: 0        Date        DoW  Month  Year\n",
       "0           0  2014-11-01   Saturday     11  2014\n",
       "1           1  2014-11-02     Sunday     11  2014\n",
       "2           2  2014-11-03     Monday     11  2014\n",
       "3           3  2014-11-04    Tuesday     11  2014\n",
       "4           4  2014-11-05  Wednesday     11  2014"
      ]
     },
     "execution_count": 36,
     "metadata": {},
     "output_type": "execute_result"
    }
   ],
   "source": [
    "df_date.head()"
   ]
  },
  {
   "cell_type": "code",
   "execution_count": 37,
   "metadata": {},
   "outputs": [],
   "source": [
    "df_date = df_date.drop(columns=['Unnamed: 0'])"
   ]
  },
  {
   "cell_type": "code",
   "execution_count": 38,
   "metadata": {},
   "outputs": [],
   "source": [
    "df_date['Date'] = pd.to_datetime(df_date['Date'])"
   ]
  },
  {
   "cell_type": "code",
   "execution_count": 39,
   "metadata": {},
   "outputs": [
    {
     "data": {
      "text/plain": [
       "(3653, 4)"
      ]
     },
     "execution_count": 39,
     "metadata": {},
     "output_type": "execute_result"
    }
   ],
   "source": [
    "df_date.shape"
   ]
  },
  {
   "cell_type": "code",
   "execution_count": 40,
   "metadata": {},
   "outputs": [
    {
     "data": {
      "text/plain": [
       "(Timestamp('2014-11-01 00:00:00'), Timestamp('2024-10-31 00:00:00'))"
      ]
     },
     "execution_count": 40,
     "metadata": {},
     "output_type": "execute_result"
    }
   ],
   "source": [
    "df_date['Date'].min(), df_date['Date'].max()"
   ]
  },
  {
   "cell_type": "markdown",
   "metadata": {},
   "source": [
    "##### **Holiday DataFrame Preprocessing**"
   ]
  },
  {
   "cell_type": "code",
   "execution_count": 41,
   "metadata": {},
   "outputs": [],
   "source": [
    "# df_holiday = df_holiday[['Date','Title']]"
   ]
  },
  {
   "cell_type": "code",
   "execution_count": 42,
   "metadata": {},
   "outputs": [],
   "source": [
    "# df_holiday['Date'] = pd.to_datetime(df_holiday['Date'])"
   ]
  },
  {
   "cell_type": "code",
   "execution_count": 43,
   "metadata": {},
   "outputs": [],
   "source": [
    "# df_holiday.dtypes"
   ]
  },
  {
   "cell_type": "markdown",
   "metadata": {},
   "source": [
    "##### **Weekday DataFrame Preprocessing**"
   ]
  },
  {
   "cell_type": "code",
   "execution_count": 44,
   "metadata": {},
   "outputs": [],
   "source": [
    "# df_weekday.head()"
   ]
  },
  {
   "cell_type": "code",
   "execution_count": 45,
   "metadata": {},
   "outputs": [],
   "source": [
    "# df_weekday['Date'] = pd.to_datetime(df_weekday['A_DATE'])"
   ]
  },
  {
   "cell_type": "code",
   "execution_count": 46,
   "metadata": {},
   "outputs": [],
   "source": [
    "# # impute missing values with 0\n",
    "# df_weekday['IS_HOLIDAY'] = df_weekday['IS_HOLIDAY'].fillna(0)"
   ]
  },
  {
   "cell_type": "markdown",
   "metadata": {},
   "source": [
    "#### **Joining Stage**\n",
    "- The Final Table\n",
    "    - Daily Open, High, Low, Close Prices of commodities \n",
    "    - Daily Open, High, Low, Close Prices of Dollar Index\n",
    "    - Date properties (holiday, weekday)\n",
    "    - Proper Dtypes"
   ]
  },
  {
   "cell_type": "code",
   "execution_count": null,
   "metadata": {},
   "outputs": [],
   "source": [
    "# # merge all dataframes\n",
    "# df = df_date \\\n",
    "#     .merge(df_btc, on='Date', how='left') \\\n",
    "#     .merge(df_oil, on='Date', how='left') \\\n",
    "#     .merge(df_gold, on='Date', how='left') \\\n",
    "#     .merge(df_dxy, on='Date', how='left') \\\n",
    "#     .merge(df_weekday, on='Date', how='left') \\\n",
    "#     .merge(df_holiday, on='Date', how='left')"
   ]
  },
  {
   "cell_type": "code",
   "execution_count": null,
   "metadata": {},
   "outputs": [],
   "source": [
    "# df.head(10)"
   ]
  },
  {
   "cell_type": "code",
   "execution_count": 50,
   "metadata": {},
   "outputs": [],
   "source": [
    "# df = df.sort_values(by='Date', ascending=False)"
   ]
  },
  {
   "cell_type": "code",
   "execution_count": null,
   "metadata": {},
   "outputs": [],
   "source": []
  }
 ],
 "metadata": {
  "kernelspec": {
   "display_name": "Python 3",
   "language": "python",
   "name": "python3"
  },
  "language_info": {
   "codemirror_mode": {
    "name": "ipython",
    "version": 3
   },
   "file_extension": ".py",
   "mimetype": "text/x-python",
   "name": "python",
   "nbconvert_exporter": "python",
   "pygments_lexer": "ipython3",
   "version": "3.12.7"
  }
 },
 "nbformat": 4,
 "nbformat_minor": 2
}
