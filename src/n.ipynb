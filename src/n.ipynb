{
 "cells": [
  {
   "cell_type": "code",
   "execution_count": 1,
   "metadata": {},
   "outputs": [],
   "source": [
    "import pandas as pd"
   ]
  },
  {
   "cell_type": "code",
   "execution_count": 2,
   "metadata": {},
   "outputs": [
    {
     "data": {
      "text/html": [
       "<div>\n",
       "<style scoped>\n",
       "    .dataframe tbody tr th:only-of-type {\n",
       "        vertical-align: middle;\n",
       "    }\n",
       "\n",
       "    .dataframe tbody tr th {\n",
       "        vertical-align: top;\n",
       "    }\n",
       "\n",
       "    .dataframe thead th {\n",
       "        text-align: right;\n",
       "    }\n",
       "</style>\n",
       "<table border=\"1\" class=\"dataframe\">\n",
       "  <thead>\n",
       "    <tr style=\"text-align: right;\">\n",
       "      <th></th>\n",
       "      <th>gold_close</th>\n",
       "      <th>oil_close</th>\n",
       "      <th>btc_close</th>\n",
       "      <th>is_holiday</th>\n",
       "      <th>Year</th>\n",
       "      <th>Month</th>\n",
       "      <th>btc_open</th>\n",
       "      <th>btc_high</th>\n",
       "      <th>btc_low</th>\n",
       "      <th>gold_open</th>\n",
       "      <th>...</th>\n",
       "      <th>gold_daily_pct_change</th>\n",
       "      <th>gold_rolling_volatility_7</th>\n",
       "      <th>gold_rolling_volatility_30</th>\n",
       "      <th>gold_yesterday_intraday_volatility</th>\n",
       "      <th>oil_yesterday_monthly_avg_pct_change</th>\n",
       "      <th>gold_yesterday_daily_percentage</th>\n",
       "      <th>btc_yesterday_daily_percentage</th>\n",
       "      <th>oil_yesterday_daily_percentage</th>\n",
       "      <th>oil_yesterday_intraday_volatility</th>\n",
       "      <th>gold_yesterday_monthly_avg_pct_change</th>\n",
       "    </tr>\n",
       "  </thead>\n",
       "  <tbody>\n",
       "    <tr>\n",
       "      <th>0</th>\n",
       "      <td>2700</td>\n",
       "      <td>120</td>\n",
       "      <td>10000</td>\n",
       "      <td>1</td>\n",
       "      <td>2024</td>\n",
       "      <td>11</td>\n",
       "      <td>9992.841516</td>\n",
       "      <td>10209.240907</td>\n",
       "      <td>9768.006364</td>\n",
       "      <td>2700.308957</td>\n",
       "      <td>...</td>\n",
       "      <td>-0.020425</td>\n",
       "      <td>0.687258</td>\n",
       "      <td>0.730699</td>\n",
       "      <td>1.304</td>\n",
       "      <td>-0.002</td>\n",
       "      <td>0.026</td>\n",
       "      <td>0.213</td>\n",
       "      <td>0.027</td>\n",
       "      <td>3.531</td>\n",
       "      <td>0.023</td>\n",
       "    </tr>\n",
       "  </tbody>\n",
       "</table>\n",
       "<p>1 rows × 31 columns</p>\n",
       "</div>"
      ],
      "text/plain": [
       "   gold_close  oil_close  btc_close  is_holiday  Year  Month     btc_open  \\\n",
       "0        2700        120      10000           1  2024     11  9992.841516   \n",
       "\n",
       "       btc_high      btc_low    gold_open  ...  gold_daily_pct_change  \\\n",
       "0  10209.240907  9768.006364  2700.308957  ...              -0.020425   \n",
       "\n",
       "   gold_rolling_volatility_7  gold_rolling_volatility_30  \\\n",
       "0                   0.687258                    0.730699   \n",
       "\n",
       "   gold_yesterday_intraday_volatility  oil_yesterday_monthly_avg_pct_change  \\\n",
       "0                               1.304                                -0.002   \n",
       "\n",
       "   gold_yesterday_daily_percentage  btc_yesterday_daily_percentage  \\\n",
       "0                            0.026                           0.213   \n",
       "\n",
       "   oil_yesterday_daily_percentage  oil_yesterday_intraday_volatility  \\\n",
       "0                           0.027                              3.531   \n",
       "\n",
       "   gold_yesterday_monthly_avg_pct_change  \n",
       "0                                  0.023  \n",
       "\n",
       "[1 rows x 31 columns]"
      ]
     },
     "execution_count": 2,
     "metadata": {},
     "output_type": "execute_result"
    }
   ],
   "source": [
    "df = pd.read_csv('submitted_data.csv')\n",
    "df"
   ]
  },
  {
   "cell_type": "code",
   "execution_count": 3,
   "metadata": {},
   "outputs": [
    {
     "data": {
      "text/plain": [
       "Index(['gold_close', 'oil_close', 'btc_close', 'is_holiday', 'Year', 'Month',\n",
       "       'btc_open', 'btc_high', 'btc_low', 'gold_open', 'gold_high', 'gold_low',\n",
       "       'oil_open', 'oil_high', 'oil_low', 'btc_daily_pct_change',\n",
       "       'btc_rolling_volatility_7', 'btc_rolling_volatility_30',\n",
       "       'oil_daily_pct_change', 'oil_rolling_volatility_7',\n",
       "       'oil_rolling_volatility_30', 'gold_daily_pct_change',\n",
       "       'gold_rolling_volatility_7', 'gold_rolling_volatility_30',\n",
       "       'gold_yesterday_intraday_volatility',\n",
       "       'oil_yesterday_monthly_avg_pct_change',\n",
       "       'gold_yesterday_daily_percentage', 'btc_yesterday_daily_percentage',\n",
       "       'oil_yesterday_daily_percentage', 'oil_yesterday_intraday_volatility',\n",
       "       'gold_yesterday_monthly_avg_pct_change'],\n",
       "      dtype='object')"
      ]
     },
     "execution_count": 3,
     "metadata": {},
     "output_type": "execute_result"
    }
   ],
   "source": [
    "df.columns"
   ]
  },
  {
   "cell_type": "code",
   "execution_count": null,
   "metadata": {},
   "outputs": [],
   "source": [
    "{'gold_yesterday_intraday_volatility', 'oil_yesterday_monthly_avg_pct_change', 'gold_yesterday_daily_percentage', 'btc_yesterday_daily_percentage', 'oil_yesterday_daily_percentage', 'oil_yesterday_intraday_volatility', 'gold_yesterday_monthly_avg_pct_change'}"
   ]
  },
  {
   "cell_type": "code",
   "execution_count": null,
   "metadata": {},
   "outputs": [],
   "source": [
    "{'gold_yesterday_intraday_volatility', 'oil_yesterday_monthly_avg_pct_change', 'gold_yesterday_daily_percentage', 'btc_yesterday_daily_percentage', 'oil_yesterday_daily_percentage', 'oil_yesterday_intraday_volatility', 'gold_yesterday_monthly_avg_pct_change'}"
   ]
  },
  {
   "cell_type": "code",
   "execution_count": null,
   "metadata": {},
   "outputs": [],
   "source": [
    " {'gold_intraday_volatility', 'gold_yesterday_intraday_volatility', 'gold_daily_percentage', 'btc_intraday_volatility', 'oil_yesterday_monthly_avg_pct_change', 'btc_yesterday_daily_percentage', 'gold_yesterday_daily_percentage', 'oil_yesterday_daily_percentage', 'oil_yesterday_intraday_volatility', 'oil_daily_percentage', 'gold_yesterday_monthly_avg_pct_change'}"
   ]
  }
 ],
 "metadata": {
  "kernelspec": {
   "display_name": "Python 3",
   "language": "python",
   "name": "python3"
  },
  "language_info": {
   "codemirror_mode": {
    "name": "ipython",
    "version": 3
   },
   "file_extension": ".py",
   "mimetype": "text/x-python",
   "name": "python",
   "nbconvert_exporter": "python",
   "pygments_lexer": "ipython3",
   "version": "3.12.6"
  }
 },
 "nbformat": 4,
 "nbformat_minor": 2
}
